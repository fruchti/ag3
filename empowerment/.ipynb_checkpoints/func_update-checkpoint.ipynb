{
 "cells": [
  {
   "cell_type": "code",
   "execution_count": 2,
   "metadata": {
    "collapsed": true
   },
   "outputs": [],
   "source": [
    "import numpy as np"
   ]
  },
  {
   "cell_type": "code",
   "execution_count": 71,
   "metadata": {
    "collapsed": false
   },
   "outputs": [],
   "source": [
    "# ' ' - nothing\n",
    "# 'P' - player\n",
    "# '#' - wall\n",
    "# 'G' - ghost\n",
    "\n",
    "field = np.array(\n",
    "        [[' ', ' ', ' ', ' ', '#', ' ', ' ', ' ', ' ', ' ', ' ', ' ', ' ', ' ', ' '],\n",
    "         [' ', ' ', '#', '#', '#', ' ', ' ', ' ', ' ', ' ', ' ', '#', ' ', '#', ' '],\n",
    "         [' ', ' ', '#', ' ', ' ', ' ', ' ', ' ', ' ', ' ', ' ', '#', ' ', '#', ' '],\n",
    "         [' ', ' ', '#', ' ', ' ', ' ', ' ', ' ', ' ', ' ', ' ', '#', ' ', '#', ' '],\n",
    "         [' ', ' ', '#', ' ', '#', '#', '#', '#', ' ', ' ', ' ', '#', 'G', '#', ' '],\n",
    "         ['#', '#', '#', 'P', '#', ' ', ' ', ' ', ' ', ' ', ' ', '#', ' ', '#', ' '],\n",
    "         [' ', ' ', ' ', ' ', '#', ' ', ' ', ' ', ' ', ' ', ' ', '#', ' ', ' ', ' '],\n",
    "         [' ', ' ', ' ', ' ', '#', ' ', ' ', ' ', ' ', '#', '#', '#', '#', ' ', ' '],\n",
    "         [' ', ' ', ' ', ' ', '#', ' ', ' ', 'G', ' ', ' ', ' ', ' ', '#', ' ', ' '],\n",
    "         [' ', ' ', ' ', ' ', '#', ' ', ' ', ' ', ' ', ' ', ' ', ' ', '#', '#', ' '],\n",
    "         [' ', ' ', ' ', ' ', '#', ' ', ' ', ' ', ' ', '#', ' ', ' ', ' ', '#', ' '],\n",
    "         [' ', ' ', '#', '#', '#', ' ', ' ', ' ', ' ', '#', ' ', ' ', ' ', '#', ' '],\n",
    "         [' ', ' ', '#', ' ', ' ', ' ', '#', '#', '#', '#', ' ', ' ', ' ', '#', ' '],\n",
    "         [' ', ' ', '#', ' ', ' ', ' ', ' ', ' ', ' ', ' ', ' ', ' ', ' ', ' ', ' '],\n",
    "         [' ', ' ', '#', ' ', ' ', ' ', ' ', ' ', ' ', ' ', ' ', ' ', ' ', 'G', ' ']])\n",
    "\n",
    "height = len(field)\n",
    "width = len(field[0])"
   ]
  },
  {
   "cell_type": "code",
   "execution_count": 74,
   "metadata": {
    "collapsed": true
   },
   "outputs": [],
   "source": [
    "def update_position(position, action):\n",
    "    newpos = [position[0] + action[0], position[1] + action[1]]\n",
    "    newpos[0] %= height\n",
    "    newpos[1] %= width\n",
    "    return newpos\n",
    "\n",
    "# Returns a list of possible actions (lists with relative y and x positions), given the current field\n",
    "def possible_actions(field, position):\n",
    "    actions = []\n",
    "    for action in [[0, 1], [0, -1], [1, 0], [-1, 0]]:\n",
    "        newpos = update_position(position, action)\n",
    "        target = field[newpos[0]][newpos[1]]\n",
    "        if target == '#':\n",
    "            continue\n",
    "        elif target == 'G':\n",
    "            continue\n",
    "        actions.append(action)\n",
    "    return actions\n",
    "\n",
    "# Updates a field matrix and moves an agent from the old position to a new position\n",
    "def move_agent(field, old_position, new_position):\n",
    "    agent = field[old_position[0]][old_position[1]]\n",
    "    target = field[new_position[0]][new_position[1]]\n",
    "    if not (agent == 'P' and target == 'G'):\n",
    "        field[new_position[0]][new_position[1]] = agent\n",
    "    field[old_position[0]][old_position[1]] = ' '\n",
    "    return field"
   ]
  },
  {
   "cell_type": "code",
   "execution_count": 73,
   "metadata": {
    "collapsed": false
   },
   "outputs": [],
   "source": [
    "def update(field, player_action):\n",
    "    def manhattan(p_x, p_y, g_x, g_y):\n",
    "        return abs(p_x - g_x) + abs(p_y - g_y)\n",
    "    \n",
    "    ## calculation of ghost actions \n",
    "    # ghost positions\n",
    "    ghost_x = []\n",
    "    ghost_y = []\n",
    "    ghost_x, ghost_y = np.where(field == 'G')\n",
    "    \n",
    "    player_pos = np.array(np.where(field == 'P')).flatten()\n",
    "\n",
    "    for ghost_pos in zip(ghost_x, ghost_y):\n",
    "        actions_ghost = possible_actions(field, ghost_pos)\n",
    "        distance = 100 # high value\n",
    "        for action in actions_ghost:\n",
    "            possible_pos = update_position(ghost_pos, action)\n",
    "            curr_distance = manhattan(player_pos[0], player_pos[1], possible_pos[0], possible_pos[1])\n",
    "            \n",
    "            if curr_distance < distance: \n",
    "                distance = curr_distance\n",
    "                best_pos = possible_pos\n",
    "        field = move_agent(field, ghost_pos, best_pos)\n",
    "    new_player_pos = update_position(player_pos, player_action)\n",
    "    return move_agent(field, player_pos, new_player_pos)\n",
    "\n",
    "new = update(field, [1, 0])"
   ]
  }
 ],
 "metadata": {
  "kernelspec": {
   "display_name": "Python 3",
   "language": "python",
   "name": "python3"
  },
  "language_info": {
   "codemirror_mode": {
    "name": "ipython",
    "version": 3
   },
   "file_extension": ".py",
   "mimetype": "text/x-python",
   "name": "python",
   "nbconvert_exporter": "python",
   "pygments_lexer": "ipython3",
   "version": "3.5.1"
  }
 },
 "nbformat": 4,
 "nbformat_minor": 0
}
