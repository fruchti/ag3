{
 "cells": [
  {
   "cell_type": "markdown",
   "metadata": {},
   "source": [
    "# Empowerment: Pacman"
   ]
  },
  {
   "cell_type": "code",
   "execution_count": 1,
   "metadata": {
    "collapsed": false
   },
   "outputs": [],
   "source": [
    "import numpy as np\n",
    "from itertools import combinations_with_replacement, combinations, permutations, product\n",
    "import pygame\n",
    "import random\n",
    "import copy\n",
    "import math\n",
    "\n",
    "background_color = [0, 0, 0]\n",
    "pacman_color = [255, 255, 0]\n",
    "wall_color = [255, 255, 255]\n",
    "ghost_color = [0, 0, 255]\n",
    "alert_color = [255, 0, 0]\n",
    "blocksize = 46\n",
    "agentsize = 18\n",
    "ghostsize = 34"
   ]
  },
  {
   "cell_type": "code",
   "execution_count": 2,
   "metadata": {
    "collapsed": false
   },
   "outputs": [],
   "source": [
    "# ' ' - nothing\n",
    "# 'P' - player\n",
    "# '#' - wall\n",
    "# 'G' - ghost\n",
    "\n",
    "mfield = np.array(\n",
    "        [['#', ' ', ' ', ' ', ' ', ' ', '#', '#', '#', ' ', ' ', ' ', ' ', ' ', '#'],\n",
    "         ['#', ' ', '#', '#', '#', ' ', ' ', ' ', '#', '#', ' ', '#', ' ', '#', '#'],\n",
    "         [' ', 'G', '#', ' ', ' ', ' ', '#', ' ', ' ', '#', ' ', '#', ' ', ' ', ' '],\n",
    "         ['#', ' ', '#', ' ', '#', ' ', '#', '#', ' ', '#', ' ', '#', ' ', '#', ' '],\n",
    "         ['#', ' ', '#', ' ', '#', ' ', '#', ' ', ' ', '#', ' ', '#', ' ', '#', 'G'],\n",
    "         ['#', ' ', '#', ' ', '#', ' ', '#', '#', ' ', ' ', ' ', '#', ' ', '#', ' '],\n",
    "         ['#', ' ', ' ', ' ', '#', ' ', '#', 'P', ' ', '#', ' ', ' ', ' ', ' ', ' '],\n",
    "         [' ', ' ', '#', ' ', ' ', ' ', '#', ' ', '#', '#', '#', '#', '#', ' ', '#'],\n",
    "         ['#', ' ', '#', ' ', '#', ' ', '#', ' ', '#', ' ', ' ', ' ', '#', ' ', ' '],\n",
    "         ['#', ' ', '#', ' ', '#', 'G', ' ', ' ', ' ', ' ', ' ', '#', '#', '#', ' '],\n",
    "         ['#', ' ', ' ', ' ', '#', '#', ' ', '#', ' ', '#', ' ', ' ', ' ', '#', ' '],\n",
    "         ['#', ' ', '#', '#', '#', ' ', ' ', '#', ' ', '#', ' ', '#', ' ', '#', '#'],\n",
    "         [' ', ' ', '#', ' ', ' ', ' ', '#', '#', '#', '#', ' ', '#', ' ', '#', ' '],\n",
    "         ['#', ' ', '#', '#', ' ', '#', '#', ' ', ' ', ' ', ' ', '#', ' ', ' ', ' '],\n",
    "         ['#', '#', '#', ' ', ' ', ' ', '#', ' ', '#', '#', ' ', '#', ' ', '#', '#']])\n",
    "\n",
    "height = len(mfield)\n",
    "width = len(mfield[0])"
   ]
  },
  {
   "cell_type": "code",
   "execution_count": 3,
   "metadata": {
    "collapsed": false
   },
   "outputs": [],
   "source": [
    "def randomize(field):\n",
    "    nfield = copy.deepcopy(field)\n",
    "    nowall_x = []\n",
    "    nowall_y = []\n",
    "    nowall_y, nowall_x = np.where(field != '#')\n",
    "    nowall = list(zip(nowall_y, nowall_x))\n",
    "    for pos in nowall:\n",
    "        nfield[pos[0]][pos[1]] = ' '\n",
    "    toplace = ['P', 'G', 'G', 'G']\n",
    "    for item in toplace:\n",
    "        while True:\n",
    "            y = random.randrange(0, width - 1)\n",
    "            x = random.randrange(0, width - 1)\n",
    "            if(nfield[y][x] != ' '):\n",
    "                continue\n",
    "            else:\n",
    "                nfield[y][x] = item\n",
    "                break\n",
    "    return nfield"
   ]
  },
  {
   "cell_type": "code",
   "execution_count": 4,
   "metadata": {
    "collapsed": true
   },
   "outputs": [],
   "source": [
    "# Returns the resulting position of a moving object, given its current position and its action\n",
    "def update_position(position, action):\n",
    "    newpos = [position[0] + action[0], position[1] + action[1]]\n",
    "    newpos[0] %= height\n",
    "    newpos[1] %= width\n",
    "    return newpos"
   ]
  },
  {
   "cell_type": "code",
   "execution_count": 5,
   "metadata": {
    "collapsed": true
   },
   "outputs": [],
   "source": [
    "def player_position(field):\n",
    "    return np.array(np.where(field == 'P')).flatten()"
   ]
  },
  {
   "cell_type": "code",
   "execution_count": 6,
   "metadata": {
    "collapsed": false
   },
   "outputs": [],
   "source": [
    "# Returns a list of possible actions (lists with relative y and x positions), given the current field and angent position\n",
    "def possible_actions(field, position):\n",
    "    actions = []\n",
    "    for action in [[0, 1], [0, -1], [1, 0], [-1, 0]]:\n",
    "        newpos = update_position(position, action)\n",
    "        target = field[newpos[0]][newpos[1]]\n",
    "        if target == '#':\n",
    "            continue\n",
    "        elif target == 'G':\n",
    "            continue\n",
    "        actions.append(action)\n",
    "    return actions"
   ]
  },
  {
   "cell_type": "code",
   "execution_count": 7,
   "metadata": {
    "collapsed": false
   },
   "outputs": [],
   "source": [
    "# Updates a field matrix and moves an agent from the old position to a new position\n",
    "def move_agent(field, old_position, new_position):\n",
    "    nfield = copy.deepcopy(field)\n",
    "    agent = nfield[old_position[0]][old_position[1]]\n",
    "    target = nfield[new_position[0]][new_position[1]]\n",
    "    if not (agent == 'P' and target == 'G'):\n",
    "        nfield[new_position[0]][new_position[1]] = agent\n",
    "    nfield[old_position[0]][old_position[1]] = ' '\n",
    "    return nfield\n",
    "\n",
    "#print(move_agent(field, [5, 3], [3, 3]))"
   ]
  },
  {
   "cell_type": "code",
   "execution_count": 8,
   "metadata": {
    "collapsed": false
   },
   "outputs": [],
   "source": [
    "def dijkstra(field, position):\n",
    "    distances = np.full((height, width), 60)\n",
    "    distances[position[0]][position[1]] = 0\n",
    "    unvisited_distances = np.full((height, width), 60)\n",
    "   \n",
    "    while True:\n",
    "        for action in possible_actions(field, position):\n",
    "            newpos = update_position(position, action)\n",
    "            if(unvisited_distances[newpos[0]][newpos[1]] != 61):\n",
    "                if distances[position[0]][position[1]] + 1 < distances[newpos[0]][newpos[1]]:\n",
    "                    distances[newpos[0]][newpos[1]] = distances[position[0]][position[1]] + 1\n",
    "                    unvisited_distances[newpos[0]][newpos[1]] = distances[position[0]][position[1]] + 1\n",
    "        unvisited_distances[position[0]][position[1]] = 61\n",
    "        position = list(np.unravel_index(unvisited_distances.argmin(), unvisited_distances.shape))\n",
    "        \n",
    "        if unvisited_distances[position[0]][position[1]] >= 60:\n",
    "            return distances\n",
    "\n",
    "#print(dijkstra(mfield, [1, 1]))\n",
    "        \n",
    "def ghostaction(field, position, playerpos):\n",
    "    mindist = 60\n",
    "    minaction = []\n",
    "    dist = dijkstra(field, playerpos)\n",
    "    for action in possible_actions(field, position):\n",
    "        newpos = update_position(position, action)\n",
    "        if field[newpos[0]][newpos[1]] != 'G':\n",
    "            if dist[newpos[0]][newpos[1]] < mindist:\n",
    "                mindist = dist[newpos[0]][newpos[1]]\n",
    "                minaction = action\n",
    "    return minaction"
   ]
  },
  {
   "cell_type": "code",
   "execution_count": 9,
   "metadata": {
    "collapsed": true
   },
   "outputs": [],
   "source": [
    "def update(field, player_action):\n",
    "    def euclidean(p_x, p_y, g_x, g_y):\n",
    "        return math.sqrt((g_x - p_x)**2 + (g_y - p_y)**2)\n",
    "    \n",
    "    ## calculation of ghost actions \n",
    "    # ghost positions\n",
    "    ghost_x = []\n",
    "    ghost_y = []\n",
    "    ghost_x, ghost_y = np.where(field == 'G')\n",
    "    \n",
    "    player_pos = player_position(field)\n",
    "\n",
    "    for ghost_pos in zip(ghost_x, ghost_y):\n",
    "        actions_ghost = possible_actions(field, ghost_pos)\n",
    "        distance = 10000 # high value\n",
    "        best_action = ghostaction(field, ghost_pos, player_pos)\n",
    "        if len(best_action) == 2:\n",
    "            best_pos = update_position(ghost_pos, best_action)\n",
    "            field = move_agent(field, ghost_pos, best_pos)\n",
    "        \n",
    "    new_player_pos = update_position(player_pos, player_action)\n",
    "    field = move_agent(field, player_pos, new_player_pos)\n",
    "    player_pos = new_player_pos\n",
    "    return field"
   ]
  },
  {
   "cell_type": "code",
   "execution_count": 10,
   "metadata": {
    "collapsed": false
   },
   "outputs": [],
   "source": [
    "# Returns the empowerment resulting from traking a specific action in a field\n",
    "def empowerment(field, action, steps):\n",
    "    if steps == 0:\n",
    "        return 1\n",
    "    newfield = update(field, action)\n",
    "    playerpos = player_position(newfield)\n",
    "    if len(playerpos) != 2:\n",
    "        return 1\n",
    "    E = 1\n",
    "    for nextaction in possible_actions(newfield, playerpos):\n",
    "        E += empowerment(newfield, nextaction, steps - 1)\n",
    "    return E"
   ]
  },
  {
   "cell_type": "code",
   "execution_count": 11,
   "metadata": {
    "collapsed": false
   },
   "outputs": [
    {
     "name": "stderr",
     "output_type": "stream",
     "text": [
      "/usr/lib/python3.5/site-packages/numpy/core/numeric.py:301: FutureWarning: in the future, full((15, 15), 60) will return an array of dtype('int64')\n",
      "  format(shape, fill_value, array(fill_value).dtype), FutureWarning)\n"
     ]
    }
   ],
   "source": [
    "pygame.init()\n",
    "clock = pygame.time.Clock()\n",
    "\n",
    "size = [width * blocksize, height * blocksize]\n",
    "screen = pygame.display.set_mode(size)\n",
    "pygame.display.set_caption(\"Pacman\")\n",
    "\n",
    "done = False\n",
    "while not done:\n",
    "    for event in pygame.event.get():\n",
    "        if event.type == pygame.QUIT:\n",
    "            done = True\n",
    " \n",
    "    screen.fill(background_color)\n",
    "    for x in range(0, width):\n",
    "        for y in range(0, height):\n",
    "            if(mfield[y][x] == '#'):\n",
    "                pygame.draw.rect(screen, wall_color, [x * blocksize, y * blocksize, blocksize - 1, blocksize - 1])\n",
    "            elif(mfield[y][x] == 'P'):\n",
    "                pygame.draw.circle(screen, pacman_color, [int(x * blocksize + blocksize / 2), int(y * blocksize + blocksize / 2)], agentsize)\n",
    "            elif(mfield[y][x] == 'G'):\n",
    "                pygame.draw.rect(screen, ghost_color, [int(x * blocksize + (blocksize - ghostsize) / 2),\n",
    "                                                       int(y * blocksize + (blocksize - ghostsize) / 2),\n",
    "                                                       ghostsize - 1, ghostsize - 1])            \n",
    "\n",
    "    \n",
    "    if len(player_position(mfield)) == 2:\n",
    "        agent_actions = possible_actions(mfield, player_position(mfield))\n",
    "        best_empowerment = 0\n",
    "        best_action = random.choice(agent_actions)\n",
    "        for action in agent_actions:\n",
    "            E = empowerment(mfield, action, 4)\n",
    "            #print(E)\n",
    "            if(E > best_empowerment):\n",
    "                best_empowerment = E\n",
    "                best_action = action\n",
    "        mfield = update(mfield, best_action)\n",
    "    else:\n",
    "        clock.tick(1)\n",
    "        pygame.draw.rect(screen, alert_color, [0, 0, blocksize * width, blocksize * height])\n",
    "        mfield = randomize(mfield)\n",
    "        \n",
    "    pygame.display.flip()\n",
    "    \n",
    "    clock.tick(2)\n",
    "    \n",
    "pygame.quit()"
   ]
  },
  {
   "cell_type": "code",
   "execution_count": null,
   "metadata": {
    "collapsed": true
   },
   "outputs": [],
   "source": []
  }
 ],
 "metadata": {
  "kernelspec": {
   "display_name": "Python 3",
   "language": "python",
   "name": "python3"
  },
  "language_info": {
   "codemirror_mode": {
    "name": "ipython",
    "version": 3
   },
   "file_extension": ".py",
   "mimetype": "text/x-python",
   "name": "python",
   "nbconvert_exporter": "python",
   "pygments_lexer": "ipython3",
   "version": "3.5.2"
  }
 },
 "nbformat": 4,
 "nbformat_minor": 0
}
