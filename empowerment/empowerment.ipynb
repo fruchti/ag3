{
 "cells": [
  {
   "cell_type": "markdown",
   "metadata": {},
   "source": [
    "# Empowerment: Pacman"
   ]
  },
  {
   "cell_type": "code",
   "execution_count": 3,
   "metadata": {
    "collapsed": true
   },
   "outputs": [],
   "source": [
    "import numpy as np\n",
    "from itertools import combinations_with_replacement, combinations, permutations, product"
   ]
  },
  {
   "cell_type": "code",
   "execution_count": 4,
   "metadata": {
    "collapsed": false
   },
   "outputs": [],
   "source": [
    "# ' ' - nothing\n",
    "# 'P' - player\n",
    "# '#' - wall\n",
    "# 'G' - ghost\n",
    "\n",
    "field = np.array(\n",
    "        [[' ', ' ', ' ', ' ', '#', ' ', ' ', ' ', ' ', ' ', ' ', ' ', ' ', ' ', ' '],\n",
    "         [' ', ' ', '#', '#', '#', ' ', ' ', ' ', ' ', ' ', ' ', '#', ' ', '#', ' '],\n",
    "         [' ', ' ', '#', ' ', ' ', ' ', ' ', ' ', ' ', ' ', ' ', '#', ' ', '#', ' '],\n",
    "         [' ', ' ', '#', ' ', ' ', ' ', ' ', ' ', ' ', ' ', ' ', '#', ' ', '#', ' '],\n",
    "         [' ', ' ', '#', ' ', '#', '#', '#', '#', ' ', ' ', ' ', '#', 'G', '#', ' '],\n",
    "         ['#', '#', '#', 'P', '#', ' ', ' ', ' ', ' ', ' ', ' ', '#', ' ', '#', ' '],\n",
    "         [' ', ' ', ' ', ' ', '#', ' ', ' ', ' ', ' ', ' ', ' ', '#', ' ', ' ', ' '],\n",
    "         [' ', ' ', ' ', ' ', '#', ' ', ' ', ' ', ' ', '#', '#', '#', '#', ' ', ' '],\n",
    "         [' ', ' ', ' ', ' ', '#', ' ', ' ', 'G', ' ', ' ', ' ', ' ', '#', ' ', ' '],\n",
    "         [' ', ' ', ' ', ' ', '#', ' ', ' ', ' ', ' ', ' ', ' ', ' ', '#', '#', ' '],\n",
    "         [' ', ' ', ' ', ' ', '#', ' ', ' ', ' ', ' ', '#', ' ', ' ', ' ', '#', ' '],\n",
    "         [' ', ' ', '#', '#', '#', ' ', ' ', ' ', ' ', '#', ' ', ' ', ' ', '#', ' '],\n",
    "         [' ', ' ', '#', ' ', ' ', ' ', '#', '#', '#', '#', ' ', ' ', ' ', '#', ' '],\n",
    "         [' ', ' ', '#', ' ', ' ', ' ', ' ', ' ', ' ', ' ', ' ', ' ', ' ', ' ', ' '],\n",
    "         [' ', ' ', '#', ' ', ' ', ' ', ' ', ' ', ' ', ' ', ' ', ' ', ' ', 'G', ' ']])\n",
    "\n",
    "height = len(field)\n",
    "width = len(field[0])"
   ]
  },
  {
   "cell_type": "code",
   "execution_count": 5,
   "metadata": {
    "collapsed": false
   },
   "outputs": [],
   "source": [
    "steps = 4\n",
    "\n",
    "def update(current):\n",
    "    return current\n",
    "\n",
    "def actions_P(field):\n",
    "    # position of variable (index)\n",
    "    Px, Py = np.where(field == 'P')\n",
    "    # field[int(x)][int(y)] \n",
    "    \n",
    "    # number of possible actions: 4\n",
    "    #    -0-\n",
    "    #    3P1\n",
    "    #    -2-\n",
    "    # calculation of possible steps from future position (0 to 3)\n",
    "    paths = set()\n",
    "    for i in product(range(steps), repeat=steps):\n",
    "        paths.add(i)\n",
    "    \n",
    "    # iterate over field around P\n",
    "    # 1. calculate free postions around you, 2. calculate number of actions possible from free positions\n",
    "    counts = []\n",
    "\n",
    "    \n",
    "    # for i in range(height):\n",
    "        # for j in range(width):\n",
    "            \n",
    "    return"
   ]
  },
  {
   "cell_type": "code",
   "execution_count": 6,
   "metadata": {
    "collapsed": false
   },
   "outputs": [],
   "source": [
    "paths = set()\n",
    "for i in product(range(4), repeat=4):\n",
    "    paths.add(i)"
   ]
  },
  {
   "cell_type": "code",
   "execution_count": 11,
   "metadata": {
    "collapsed": true
   },
   "outputs": [],
   "source": [
    "# Returns the resulting position of a moving object, given its current position and its action\n",
    "def update_position(position, action):\n",
    "    newpos = [position[0] + action[0], position[1] + action[1]]\n",
    "    newpos[0] %= height\n",
    "    newpos[1] %= width\n",
    "    return newpos"
   ]
  },
  {
   "cell_type": "code",
   "execution_count": 39,
   "metadata": {
    "collapsed": true
   },
   "outputs": [],
   "source": [
    "def player_position(field):\n",
    "    return np.array(np.where(field == 'P')).flatten()"
   ]
  },
  {
   "cell_type": "code",
   "execution_count": 41,
   "metadata": {
    "collapsed": false
   },
   "outputs": [],
   "source": [
    "# Returns a list of possible actions (lists with relative y and x positions), given the current field and angent position\n",
    "def possible_actions(field, position):\n",
    "    actions = []\n",
    "    for action in [[0, 1], [0, -1], [1, 0], [-1, 0]]:\n",
    "        newpos = update_position(position, action)\n",
    "        target = field[newpos[0]][newpos[1]]\n",
    "        if target == '#':\n",
    "            continue\n",
    "        elif target == 'G':\n",
    "            continue\n",
    "        actions.append(action)\n",
    "    return actions"
   ]
  },
  {
   "cell_type": "code",
   "execution_count": 78,
   "metadata": {
    "collapsed": false
   },
   "outputs": [],
   "source": [
    "# Updates a field matrix and moves an agent from the old position to a new position\n",
    "def move_agent(field, old_position, new_position):\n",
    "    agent = field[old_position[0]][old_position[1]]\n",
    "    target = field[new_position[0]][new_position[1]]\n",
    "    if not (agent == 'P' and target == 'G'):\n",
    "        field[new_position[0]][new_position[1]] = agent\n",
    "    field[old_position[0]][old_position[1]] = ' '\n",
    "    return field\n",
    "\n",
    "#print(move_agent(field, [5, 3], [3, 3]))"
   ]
  },
  {
   "cell_type": "code",
   "execution_count": 48,
   "metadata": {
    "collapsed": true
   },
   "outputs": [],
   "source": [
    "def update(field, player_action):\n",
    "    def manhattan(p_x, p_y, g_x, g_y):\n",
    "        return abs(p_x - g_x) + abs(p_y - g_y)\n",
    "    \n",
    "    ## calculation of ghost actions \n",
    "    # ghost positions\n",
    "    ghost_x = []\n",
    "    ghost_y = []\n",
    "    ghost_x, ghost_y = np.where(field == 'G')\n",
    "    \n",
    "    player_pos = np.array(np.where(field == 'P')).flatten()\n",
    "\n",
    "    for ghost_pos in zip(ghost_x, ghost_y):\n",
    "        actions_ghost = possible_actions(field, ghost_pos)\n",
    "        distance = 100 # high value\n",
    "        for action in actions_ghost:\n",
    "            possible_pos = update_position(ghost_pos, action)\n",
    "            curr_distance = manhattan(player_pos[0], player_pos[1], possible_pos[0], possible_pos[1])\n",
    "            \n",
    "            if curr_distance < distance: \n",
    "                distance = curr_distance\n",
    "                best_pos = possible_pos\n",
    "        field = move_agent(field, ghost_pos, best_pos)\n",
    "    new_player_pos = update_position(player_pos, player_action)\n",
    "    return move_agent(field, player_pos, new_player_pos)"
   ]
  },
  {
   "cell_type": "code",
   "execution_count": 46,
   "metadata": {
    "collapsed": true
   },
   "outputs": [],
   "source": [
    "# Returns an array of fields which result in one of the possible player actions being taken\n",
    "# (starting from every field in the input array)\n",
    "def possible_fields(fields):\n",
    "    possibilities = []\n",
    "    for field in fields:\n",
    "        for action in possible_actions(field, player_position(field)):\n",
    "            possibilities.append(update(field, action))\n",
    "    return possibilities"
   ]
  },
  {
   "cell_type": "code",
   "execution_count": 72,
   "metadata": {
    "collapsed": false
   },
   "outputs": [],
   "source": [
    "# Returns an empowerment measure calculated from an array of reachable fields\n",
    "def empowerment(fields):\n",
    "    return np.log(len(set([tuple(tuple(element) for element in field) for field in fields])))\n",
    "    \n",
    "#print(empowerment(possible_fields([field, field])))"
   ]
  }
 ],
 "metadata": {
  "kernelspec": {
   "display_name": "Python 3",
   "language": "python",
   "name": "python3"
  },
  "language_info": {
   "codemirror_mode": {
    "name": "ipython",
    "version": 3
   },
   "file_extension": ".py",
   "mimetype": "text/x-python",
   "name": "python",
   "nbconvert_exporter": "python",
   "pygments_lexer": "ipython3",
   "version": "3.5.2"
  }
 },
 "nbformat": 4,
 "nbformat_minor": 0
}
