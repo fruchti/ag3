{
 "cells": [
  {
   "cell_type": "markdown",
   "metadata": {},
   "source": [
    "# Empowerment: Pacman"
   ]
  },
  {
   "cell_type": "code",
   "execution_count": 3,
   "metadata": {
    "collapsed": true
   },
   "outputs": [],
   "source": [
    "import numpy as np\n",
    "from itertools import combinations_with_replacement, combinations, permutations, product"
   ]
  },
  {
   "cell_type": "code",
   "execution_count": 4,
   "metadata": {
    "collapsed": false
   },
   "outputs": [],
   "source": [
    "# ' ' - nothing\n",
    "# 'P' - player\n",
    "# '#' - wall\n",
    "# 'G' - ghost\n",
    "\n",
    "field = np.array(\n",
    "        [[' ', ' ', ' ', ' ', '#', ' ', ' ', ' ', ' ', ' ', ' ', ' ', ' ', ' ', ' '],\n",
    "         [' ', ' ', '#', '#', '#', ' ', ' ', ' ', ' ', ' ', ' ', '#', ' ', '#', ' '],\n",
    "         [' ', ' ', '#', ' ', ' ', ' ', ' ', ' ', ' ', ' ', ' ', '#', ' ', '#', ' '],\n",
    "         [' ', ' ', '#', ' ', ' ', ' ', ' ', ' ', ' ', ' ', ' ', '#', ' ', '#', ' '],\n",
    "         [' ', ' ', '#', ' ', '#', '#', '#', '#', ' ', ' ', ' ', '#', 'G', '#', ' '],\n",
    "         ['#', '#', '#', 'P', '#', ' ', ' ', ' ', ' ', ' ', ' ', '#', ' ', '#', ' '],\n",
    "         [' ', ' ', ' ', ' ', '#', ' ', ' ', ' ', ' ', ' ', ' ', '#', ' ', ' ', ' '],\n",
    "         [' ', ' ', ' ', ' ', '#', ' ', ' ', ' ', ' ', '#', '#', '#', '#', ' ', ' '],\n",
    "         [' ', ' ', ' ', ' ', '#', ' ', ' ', 'G', ' ', ' ', ' ', ' ', '#', ' ', ' '],\n",
    "         [' ', ' ', ' ', ' ', '#', ' ', ' ', ' ', ' ', ' ', ' ', ' ', '#', '#', ' '],\n",
    "         [' ', ' ', ' ', ' ', '#', ' ', ' ', ' ', ' ', '#', ' ', ' ', ' ', '#', ' '],\n",
    "         [' ', ' ', '#', '#', '#', ' ', ' ', ' ', ' ', '#', ' ', ' ', ' ', '#', ' '],\n",
    "         [' ', ' ', '#', ' ', ' ', ' ', '#', '#', '#', '#', ' ', ' ', ' ', '#', ' '],\n",
    "         [' ', ' ', '#', ' ', ' ', ' ', ' ', ' ', ' ', ' ', ' ', ' ', ' ', ' ', ' '],\n",
    "         [' ', ' ', '#', ' ', ' ', ' ', ' ', ' ', ' ', ' ', ' ', ' ', ' ', 'G', ' ']])\n",
    "\n",
    "height = len(field)\n",
    "width = len(field[0])"
   ]
  },
  {
   "cell_type": "code",
   "execution_count": 5,
   "metadata": {
    "collapsed": false
   },
   "outputs": [],
   "source": [
    "steps = 4\n",
    "\n",
    "def update(current):\n",
    "    return current\n",
    "\n",
    "def actions_P(field):\n",
    "    # position of variable (index)\n",
    "    Px, Py = np.where(field == 'P')\n",
    "    # field[int(x)][int(y)] \n",
    "    \n",
    "    # number of possible actions: 4\n",
    "    #    -0-\n",
    "    #    3P1\n",
    "    #    -2-\n",
    "    # calculation of possible steps from future position (0 to 3)\n",
    "    paths = set()\n",
    "    for i in product(range(steps), repeat=steps):\n",
    "        paths.add(i)\n",
    "    \n",
    "    # iterate over field around P\n",
    "    # 1. calculate free postions around you, 2. calculate number of actions possible from free positions\n",
    "    counts = []\n",
    "\n",
    "    \n",
    "    # for i in range(height):\n",
    "        # for j in range(width):\n",
    "            \n",
    "    return"
   ]
  },
  {
   "cell_type": "code",
   "execution_count": 6,
   "metadata": {
    "collapsed": false
   },
   "outputs": [],
   "source": [
    "paths = set()\n",
    "for i in product(range(4), repeat=4):\n",
    "    paths.add(i)"
   ]
  },
  {
   "cell_type": "code",
   "execution_count": 11,
   "metadata": {
    "collapsed": true
   },
   "outputs": [],
   "source": [
    "def update_position(position, action):\n",
    "    newpos = [position[0] + action[0], position[1] + action[1]]\n",
    "    newpos[0] %= height\n",
    "    newpos[1] %= width\n",
    "    return newpos"
   ]
  },
  {
   "cell_type": "code",
   "execution_count": 31,
   "metadata": {
    "collapsed": false
   },
   "outputs": [],
   "source": [
    "def possible_actions(field, player = True):\n",
    "    actions = []\n",
    "    pos = np.array(np.where(field == 'P')).flatten()\n",
    "    for action in [[0, 1], [0, -1], [1, 0], [-1, 0]]:\n",
    "        newpos = update_position(pos, action)\n",
    "        target = field[newpos[0]][newpos[1]]\n",
    "        if target == '#':\n",
    "            continue\n",
    "        elif target == 'G' and player:\n",
    "            continue\n",
    "        actions.append(action)\n",
    "    return actions"
   ]
  },
  {
   "cell_type": "code",
   "execution_count": null,
   "metadata": {
    "collapsed": true
   },
   "outputs": [],
   "source": []
  }
 ],
 "metadata": {
  "kernelspec": {
   "display_name": "Python 3",
   "language": "python",
   "name": "python3"
  },
  "language_info": {
   "codemirror_mode": {
    "name": "ipython",
    "version": 3
   },
   "file_extension": ".py",
   "mimetype": "text/x-python",
   "name": "python",
   "nbconvert_exporter": "python",
   "pygments_lexer": "ipython3",
   "version": "3.5.2"
  }
 },
 "nbformat": 4,
 "nbformat_minor": 0
}
