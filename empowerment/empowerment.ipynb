{
 "cells": [
  {
   "cell_type": "markdown",
   "metadata": {},
   "source": [
    "# Empowerment: Pacman"
   ]
  },
  {
   "cell_type": "code",
   "execution_count": 28,
   "metadata": {
    "collapsed": true
   },
   "outputs": [],
   "source": [
    "import numpy as np\n",
    "from itertools import combinations_with_replacement, combinations, permutations, product\n",
    "import pygame\n",
    "import random\n",
    "import copy\n",
    "import math\n",
    "\n",
    "background_color = [0, 0, 0]\n",
    "pacman_color = [255, 255, 0]\n",
    "wall_color = [255, 255, 255]\n",
    "ghost_color = [0, 0, 255]\n",
    "blocksize = 26\n",
    "agentsize = 10\n",
    "ghostsize = 20"
   ]
  },
  {
   "cell_type": "code",
   "execution_count": 18,
   "metadata": {
    "collapsed": false
   },
   "outputs": [],
   "source": [
    "# ' ' - nothing\n",
    "# 'P' - player\n",
    "# '#' - wall\n",
    "# 'G' - ghost\n",
    "\n",
    "mfield = np.array(\n",
    "        [[' ', ' ', ' ', ' ', '#', ' ', ' ', ' ', ' ', ' ', ' ', ' ', ' ', ' ', ' '],\n",
    "         [' ', ' ', '#', '#', '#', ' ', ' ', ' ', ' ', ' ', ' ', '#', ' ', '#', ' '],\n",
    "         [' ', ' ', '#', ' ', ' ', ' ', ' ', ' ', ' ', ' ', ' ', '#', ' ', '#', ' '],\n",
    "         [' ', ' ', '#', ' ', ' ', ' ', ' ', ' ', ' ', ' ', ' ', '#', ' ', '#', ' '],\n",
    "         [' ', ' ', '#', ' ', '#', ' ', ' ', '#', ' ', ' ', ' ', ' ', 'G', '#', ' '],\n",
    "         ['#', '#', '#', ' ', '#', ' ', ' ', ' ', 'P', ' ', ' ', ' ', ' ', '#', ' '],\n",
    "         [' ', ' ', ' ', ' ', '#', ' ', ' ', ' ', ' ', ' ', ' ', ' ', ' ', ' ', ' '],\n",
    "         [' ', ' ', ' ', ' ', '#', ' ', ' ', ' ', ' ', '#', '#', '#', '#', ' ', ' '],\n",
    "         [' ', ' ', ' ', ' ', '#', ' ', ' ', 'G', ' ', ' ', ' ', ' ', '#', ' ', ' '],\n",
    "         [' ', ' ', ' ', ' ', '#', ' ', ' ', ' ', ' ', ' ', ' ', ' ', '#', '#', ' '],\n",
    "         [' ', ' ', ' ', ' ', '#', ' ', ' ', ' ', ' ', '#', ' ', ' ', ' ', '#', ' '],\n",
    "         [' ', ' ', '#', '#', '#', ' ', ' ', ' ', ' ', '#', ' ', ' ', ' ', '#', ' '],\n",
    "         [' ', ' ', '#', ' ', ' ', ' ', '#', '#', '#', '#', ' ', ' ', ' ', '#', ' '],\n",
    "         [' ', ' ', '#', ' ', ' ', ' ', ' ', ' ', ' ', ' ', ' ', ' ', ' ', ' ', ' '],\n",
    "         [' ', ' ', '#', ' ', ' ', ' ', ' ', ' ', ' ', ' ', ' ', ' ', ' ', 'G', ' ']])\n",
    "\n",
    "mfield = np.array(\n",
    "        [[' ', ' ', ' ', ' ', ' ', ' ', ' ', ' ', ' ', ' ', ' ', ' ', ' ', ' ', ' '],\n",
    "         [' ', ' ', ' ', ' ', ' ', ' ', 'G', ' ', ' ', ' ', ' ', ' ', ' ', ' ', ' '],\n",
    "         [' ', ' ', ' ', ' ', ' ', ' ', ' ', ' ', ' ', ' ', ' ', ' ', ' ', ' ', ' '],\n",
    "         [' ', 'P', ' ', ' ', ' ', ' ', ' ', ' ', ' ', ' ', ' ', ' ', ' ', ' ', ' '],\n",
    "         [' ', ' ', ' ', ' ', ' ', ' ', ' ', ' ', ' ', ' ', ' ', ' ', 'G', ' ', ' '],\n",
    "         [' ', ' ', ' ', ' ', ' ', ' ', ' ', ' ', ' ', ' ', ' ', ' ', ' ', ' ', ' '],\n",
    "         [' ', ' ', ' ', ' ', ' ', ' ', ' ', ' ', ' ', ' ', ' ', ' ', ' ', ' ', ' '],\n",
    "         [' ', ' ', ' ', ' ', ' ', ' ', ' ', ' ', ' ', ' ', ' ', ' ', ' ', ' ', ' '],\n",
    "         [' ', ' ', ' ', ' ', ' ', ' ', ' ', 'G', ' ', ' ', ' ', ' ', ' ', ' ', ' '],\n",
    "         [' ', ' ', ' ', ' ', ' ', 'G', ' ', ' ', ' ', ' ', ' ', ' ', ' ', ' ', ' '],\n",
    "         [' ', ' ', ' ', ' ', ' ', ' ', ' ', ' ', ' ', ' ', ' ', ' ', ' ', ' ', ' '],\n",
    "         [' ', ' ', ' ', ' ', ' ', ' ', ' ', ' ', ' ', ' ', ' ', ' ', ' ', ' ', ' '],\n",
    "         [' ', 'G', ' ', ' ', ' ', ' ', ' ', ' ', ' ', ' ', ' ', ' ', ' ', ' ', ' '],\n",
    "         [' ', ' ', ' ', ' ', ' ', ' ', ' ', ' ', ' ', ' ', ' ', ' ', ' ', ' ', ' '],\n",
    "         [' ', ' ', ' ', ' ', ' ', ' ', ' ', ' ', ' ', ' ', ' ', ' ', ' ', 'G', ' ']])\n",
    "\n",
    "height = len(mfield)\n",
    "width = len(mfield[0])"
   ]
  },
  {
   "cell_type": "code",
   "execution_count": 19,
   "metadata": {
    "collapsed": false
   },
   "outputs": [],
   "source": [
    "paths = set()\n",
    "for i in product(range(4), repeat=4):\n",
    "    paths.add(i)"
   ]
  },
  {
   "cell_type": "code",
   "execution_count": 20,
   "metadata": {
    "collapsed": true
   },
   "outputs": [],
   "source": [
    "# Returns the resulting position of a moving object, given its current position and its action\n",
    "def update_position(position, action):\n",
    "    newpos = [position[0] + action[0], position[1] + action[1]]\n",
    "    newpos[0] %= height\n",
    "    newpos[1] %= width\n",
    "    return newpos"
   ]
  },
  {
   "cell_type": "code",
   "execution_count": 21,
   "metadata": {
    "collapsed": true
   },
   "outputs": [],
   "source": [
    "def player_position(field):\n",
    "    return np.array(np.where(field == 'P')).flatten()"
   ]
  },
  {
   "cell_type": "code",
   "execution_count": 22,
   "metadata": {
    "collapsed": false
   },
   "outputs": [],
   "source": [
    "# Returns a list of possible actions (lists with relative y and x positions), given the current field and angent position\n",
    "def possible_actions(field, position):\n",
    "    actions = []\n",
    "    for action in [[0, 1], [0, -1], [1, 0], [-1, 0]]:\n",
    "        newpos = update_position(position, action)\n",
    "        target = field[newpos[0]][newpos[1]]\n",
    "        if target == '#':\n",
    "            continue\n",
    "        elif target == 'G':\n",
    "            continue\n",
    "        actions.append(action)\n",
    "    return actions"
   ]
  },
  {
   "cell_type": "code",
   "execution_count": 23,
   "metadata": {
    "collapsed": false
   },
   "outputs": [],
   "source": [
    "# Updates a field matrix and moves an agent from the old position to a new position\n",
    "def move_agent(field, old_position, new_position):\n",
    "    nfield = copy.deepcopy(field)\n",
    "    agent = nfield[old_position[0]][old_position[1]]\n",
    "    target = nfield[new_position[0]][new_position[1]]\n",
    "    if not (agent == 'P' and target == 'G'):\n",
    "        nfield[new_position[0]][new_position[1]] = agent\n",
    "    nfield[old_position[0]][old_position[1]] = ' '\n",
    "    return nfield\n",
    "\n",
    "#print(move_agent(field, [5, 3], [3, 3]))"
   ]
  },
  {
   "cell_type": "code",
   "execution_count": 24,
   "metadata": {
    "collapsed": true
   },
   "outputs": [],
   "source": [
    "def update(field, player_action):\n",
    "    def euclidean(p_x, p_y, g_x, g_y):\n",
    "        return math.sqrt((g_x - p_x)**2 + (g_y - p_y)**2)\n",
    "    \n",
    "    ## calculation of ghost actions \n",
    "    # ghost positions\n",
    "    ghost_x = []\n",
    "    ghost_y = []\n",
    "    ghost_x, ghost_y = np.where(field == 'G')\n",
    "    \n",
    "    player_pos = player_position(field)\n",
    "\n",
    "    for ghost_pos in zip(ghost_x, ghost_y):\n",
    "        actions_ghost = possible_actions(field, ghost_pos)\n",
    "        distance = 10000 # high value\n",
    "        best_pos = ghost_pos\n",
    "        for action in actions_ghost:\n",
    "            possible_pos = update_position(ghost_pos, action)\n",
    "            curr_distance = euclidean(player_pos[0], player_pos[1], possible_pos[0], possible_pos[1])\n",
    "            \n",
    "            if curr_distance < distance: \n",
    "                distance = curr_distance\n",
    "                best_pos = possible_pos\n",
    "        field = move_agent(field, ghost_pos, best_pos)\n",
    "        \n",
    "    new_player_pos = update_position(player_pos, player_action)\n",
    "    field = move_agent(field, player_pos, new_player_pos)\n",
    "    player_pos = new_player_pos\n",
    "    return field"
   ]
  },
  {
   "cell_type": "code",
   "execution_count": 25,
   "metadata": {
    "collapsed": true
   },
   "outputs": [],
   "source": [
    "# Returns an array of fields which result in one of the possible player actions being taken\n",
    "# (starting from every field in the input array)\n",
    "def possible_fields(fields):\n",
    "    possibilities = []\n",
    "    for field in fields:\n",
    "        if len(player_position(field)) == 2:\n",
    "            for action in possible_actions(field, player_position(field)):\n",
    "                newfield = update(field, action)\n",
    "                if len(player_position(field)) == 2:\n",
    "                    possibilities.append(newfield)\n",
    "    return possibilities"
   ]
  },
  {
   "cell_type": "code",
   "execution_count": 26,
   "metadata": {
    "collapsed": false
   },
   "outputs": [],
   "source": [
    "# Returns an empowerment measure calculated from an array of reachable fields\n",
    "def empowerment(fields):\n",
    "    return len(set([tuple(tuple(element) for element in field) for field in fields]))\n",
    "    \n",
    "# print(empowerment(possible_fields([field, field])))"
   ]
  },
  {
   "cell_type": "code",
   "execution_count": 27,
   "metadata": {
    "collapsed": false
   },
   "outputs": [
    {
     "name": "stdout",
     "output_type": "stream",
     "text": [
      "246\n",
      "246\n",
      "246\n",
      "246\n",
      "202\n",
      "202\n",
      "202\n",
      "202\n",
      "120\n",
      "120\n",
      "120\n",
      "120\n",
      "45\n",
      "45\n",
      "45\n",
      "45\n",
      "38\n",
      "38\n",
      "38\n",
      "38\n",
      "32\n",
      "32\n",
      "32\n",
      "32\n",
      "32\n",
      "32\n",
      "32\n",
      "32\n",
      "32\n",
      "32\n",
      "32\n",
      "32\n",
      "32\n",
      "32\n",
      "32\n",
      "32\n",
      "32\n",
      "32\n",
      "32\n",
      "32\n",
      "32\n",
      "32\n",
      "32\n",
      "32\n",
      "36\n",
      "36\n",
      "36\n",
      "36\n",
      "43\n",
      "43\n",
      "43\n",
      "43\n",
      "54\n",
      "54\n",
      "54\n",
      "54\n",
      "61\n",
      "61\n",
      "61\n",
      "61\n",
      "47\n",
      "47\n",
      "47\n",
      "47\n",
      "36\n",
      "36\n",
      "36\n",
      "36\n",
      "32\n",
      "32\n",
      "32\n",
      "32\n",
      "32\n",
      "32\n",
      "32\n",
      "32\n",
      "32\n",
      "32\n",
      "32\n",
      "32\n",
      "32\n",
      "32\n",
      "32\n",
      "32\n",
      "32\n",
      "32\n",
      "32\n",
      "32\n",
      "32\n",
      "32\n",
      "32\n",
      "32\n",
      "32\n",
      "32\n",
      "32\n",
      "32\n",
      "32\n",
      "32\n",
      "32\n",
      "32\n",
      "32\n",
      "32\n",
      "32\n",
      "32\n",
      "32\n",
      "32\n",
      "32\n",
      "32\n",
      "32\n",
      "32\n",
      "32\n",
      "32\n",
      "32\n",
      "32\n",
      "32\n",
      "32\n",
      "32\n",
      "32\n",
      "32\n",
      "32\n",
      "32\n",
      "32\n",
      "32\n",
      "32\n",
      "32\n",
      "32\n",
      "32\n",
      "32\n"
     ]
    }
   ],
   "source": [
    "pygame.init()\n",
    "clock = pygame.time.Clock()\n",
    "\n",
    "size = [width * blocksize, height * blocksize]\n",
    "screen = pygame.display.set_mode(size)\n",
    "pygame.display.set_caption(\"Pacman\")\n",
    "\n",
    "done = False\n",
    "while not done:\n",
    "    for event in pygame.event.get():\n",
    "        if event.type == pygame.QUIT:\n",
    "            done = True\n",
    " \n",
    "    screen.fill(background_color)\n",
    "    for x in range(0, width):\n",
    "        for y in range(0, height):\n",
    "            if(mfield[y][x] == '#'):\n",
    "                pygame.draw.rect(screen, wall_color, [x * blocksize, y * blocksize, blocksize - 1, blocksize - 1])\n",
    "            elif(mfield[y][x] == 'P'):\n",
    "                pygame.draw.circle(screen, pacman_color, [int(x * blocksize + blocksize / 2), int(y * blocksize + blocksize / 2)], agentsize)\n",
    "            elif(mfield[y][x] == 'G'):\n",
    "                pygame.draw.rect(screen, ghost_color, [int(x * blocksize + (blocksize - ghostsize) / 2),\n",
    "                                                       int(y * blocksize + (blocksize - ghostsize) / 2),\n",
    "                                                       ghostsize - 1, ghostsize - 1])            \n",
    "    pygame.display.flip()\n",
    "    \n",
    "    if len(player_position(mfield)) == 2:\n",
    "        agent_actions = possible_actions(mfield, player_position(mfield))\n",
    "        best_empowerment = 0\n",
    "        best_action = random.choice(agent_actions)\n",
    "        for action in agent_actions:\n",
    "            fieldarray = [mfield]\n",
    "            for i in range(5):\n",
    "                fieldarray = possible_fields(fieldarray)\n",
    "            E = empowerment(fieldarray)\n",
    "            print(E)\n",
    "            if(E > best_empowerment):\n",
    "                best_empowerment = E\n",
    "                best_action = action\n",
    "        mfield = update(mfield, best_action)\n",
    "    \n",
    "    clock.tick(2)\n",
    "    \n",
    "pygame.quit()"
   ]
  },
  {
   "cell_type": "code",
   "execution_count": null,
   "metadata": {
    "collapsed": true
   },
   "outputs": [],
   "source": []
  }
 ],
 "metadata": {
  "kernelspec": {
   "display_name": "Python 3",
   "language": "python",
   "name": "python3"
  },
  "language_info": {
   "codemirror_mode": {
    "name": "ipython",
    "version": 3
   },
   "file_extension": ".py",
   "mimetype": "text/x-python",
   "name": "python",
   "nbconvert_exporter": "python",
   "pygments_lexer": "ipython3",
   "version": "3.5.1"
  }
 },
 "nbformat": 4,
 "nbformat_minor": 0
}
